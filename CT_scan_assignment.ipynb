{
  "cells": [
    {
      "cell_type": "code",
      "source": [
        "#installing patool for unzipping & split-folder for splitting the folder into train,test,val\n",
        "!pip install patool\n",
        "!pip install split-folders"
      ],
      "metadata": {
        "colab": {
          "base_uri": "https://localhost:8080/"
        },
        "id": "YOyXOMVc8ACz",
        "outputId": "08ba7319-66ad-4f26-944b-7e41cb8a0a95"
      },
      "id": "YOyXOMVc8ACz",
      "execution_count": 1,
      "outputs": [
        {
          "output_type": "stream",
          "name": "stdout",
          "text": [
            "Looking in indexes: https://pypi.org/simple, https://us-python.pkg.dev/colab-wheels/public/simple/\n",
            "Collecting patool\n",
            "  Downloading patool-1.12-py2.py3-none-any.whl (77 kB)\n",
            "\u001b[2K     \u001b[90m━━━━━━━━━━━━━━━━━━━━━━━━━━━━━━━━━━━━━━━━\u001b[0m \u001b[32m77.5/77.5 kB\u001b[0m \u001b[31m7.4 MB/s\u001b[0m eta \u001b[36m0:00:00\u001b[0m\n",
            "\u001b[?25hInstalling collected packages: patool\n",
            "Successfully installed patool-1.12\n",
            "Looking in indexes: https://pypi.org/simple, https://us-python.pkg.dev/colab-wheels/public/simple/\n",
            "Collecting split-folders\n",
            "  Downloading split_folders-0.5.1-py3-none-any.whl (8.4 kB)\n",
            "Installing collected packages: split-folders\n",
            "Successfully installed split-folders-0.5.1\n"
          ]
        }
      ]
    },
    {
      "cell_type": "code",
      "source": [
        "from google.colab import drive\n",
        "drive.mount('/content/drive')"
      ],
      "metadata": {
        "colab": {
          "base_uri": "https://localhost:8080/"
        },
        "id": "5RdrQfR22J-P",
        "outputId": "88fdb730-dfee-4c85-d83c-82b692ebeb77"
      },
      "id": "5RdrQfR22J-P",
      "execution_count": 2,
      "outputs": [
        {
          "output_type": "stream",
          "name": "stdout",
          "text": [
            "Mounted at /content/drive\n"
          ]
        }
      ]
    },
    {
      "cell_type": "code",
      "execution_count": 3,
      "id": "267db709",
      "metadata": {
        "id": "267db709"
      },
      "outputs": [],
      "source": [
        "import patoolib\n",
        "import cv2\n",
        "import glob\n",
        "import os\n",
        "import splitfolders as sf"
      ]
    },
    {
      "cell_type": "code",
      "source": [
        "import tensorflow as tf\n",
        "from tensorflow import keras\n",
        "from tensorflow.keras import layers\n",
        "from tensorflow.python.keras.layers import Dense, Flatten\n",
        "from tensorflow.keras.models import Sequential\n",
        "from tensorflow.keras.optimizers import Adam\n",
        "from keras.callbacks import ModelCheckpoint, EarlyStopping, CSVLogger\n",
        "from keras.preprocessing.image import ImageDataGenerator"
      ],
      "metadata": {
        "id": "LLdxSz-K7wxe"
      },
      "id": "LLdxSz-K7wxe",
      "execution_count": 4,
      "outputs": []
    },
    {
      "cell_type": "code",
      "source": [
        "import pandas as pd\n",
        "import numpy as np\n",
        "from keras.models import load_model\n",
        "import matplotlib.pyplot as plt"
      ],
      "metadata": {
        "id": "4SkoqgwNQ1VV"
      },
      "id": "4SkoqgwNQ1VV",
      "execution_count": 5,
      "outputs": []
    },
    {
      "cell_type": "code",
      "source": [
        "#set the path where the zip files of images are present\n",
        "input='/content/drive/MyDrive/CTscan/'"
      ],
      "metadata": {
        "id": "zMAy4Me2CZaa"
      },
      "id": "zMAy4Me2CZaa",
      "execution_count": 6,
      "outputs": []
    },
    {
      "cell_type": "code",
      "execution_count": 7,
      "id": "6194de78",
      "metadata": {
        "colab": {
          "base_uri": "https://localhost:8080/",
          "height": 87
        },
        "id": "6194de78",
        "outputId": "ab1146d7-2c71-437a-d25c-9dd8d472cb71"
      },
      "outputs": [
        {
          "output_type": "stream",
          "name": "stdout",
          "text": [
            "patool: Extracting /content/drive/MyDrive/CTscan/COVID.zip ...\n",
            "patool: running /usr/bin/7z x -o/content/CTscan -- /content/drive/MyDrive/CTscan/COVID.zip\n",
            "patool: ... /content/drive/MyDrive/CTscan/COVID.zip extracted to `/content/CTscan'.\n"
          ]
        },
        {
          "output_type": "execute_result",
          "data": {
            "text/plain": [
              "'/content/CTscan'"
            ],
            "application/vnd.google.colaboratory.intrinsic+json": {
              "type": "string"
            }
          },
          "metadata": {},
          "execution_count": 7
        }
      ],
      "source": [
        "#unzipping folder containing CT scan images\n",
        "patoolib.extract_archive(input+\"COVID.zip\",outdir='/content/CTscan')"
      ]
    },
    {
      "cell_type": "code",
      "execution_count": 8,
      "id": "9f452612",
      "metadata": {
        "colab": {
          "base_uri": "https://localhost:8080/",
          "height": 87
        },
        "id": "9f452612",
        "outputId": "31ad8c0f-284f-439d-a679-aa3a3225f04d"
      },
      "outputs": [
        {
          "output_type": "stream",
          "name": "stdout",
          "text": [
            "patool: Extracting /content/drive/MyDrive/CTscan/nonCOVID.zip ...\n",
            "patool: running /usr/bin/7z x -o/content/CTscan -- /content/drive/MyDrive/CTscan/nonCOVID.zip\n",
            "patool: ... /content/drive/MyDrive/CTscan/nonCOVID.zip extracted to `/content/CTscan'.\n"
          ]
        },
        {
          "output_type": "execute_result",
          "data": {
            "text/plain": [
              "'/content/CTscan'"
            ],
            "application/vnd.google.colaboratory.intrinsic+json": {
              "type": "string"
            }
          },
          "metadata": {},
          "execution_count": 8
        }
      ],
      "source": [
        "patoolib.extract_archive(input+\"nonCOVID.zip\",outdir='/content/CTscan')"
      ]
    },
    {
      "cell_type": "code",
      "execution_count": 9,
      "id": "c9580c92",
      "metadata": {
        "id": "c9580c92"
      },
      "outputs": [],
      "source": [
        "curr=os.getcwd()"
      ]
    },
    {
      "cell_type": "code",
      "execution_count": 10,
      "id": "189a4933",
      "metadata": {
        "id": "189a4933"
      },
      "outputs": [],
      "source": [
        "#Resizing images to 224x224 for Resnet\n",
        "inputfolder='/content/CTscan/COVID'\n",
        "length=len(inputfolder)\n",
        "\n",
        "path='/content/resize/covid'\n",
        "os.makedirs(path,mode=0o666,exist_ok=True)\n",
        "\n",
        "for img in glob.glob(inputfolder+'/*.*'):\n",
        "    image=cv2.imread(img)\n",
        "    imgRe=cv2.resize(image,(224,224))\n",
        "    cv2.imwrite(path+img[length:],imgRe)"
      ]
    },
    {
      "cell_type": "code",
      "execution_count": 11,
      "id": "03095a6e",
      "metadata": {
        "id": "03095a6e"
      },
      "outputs": [],
      "source": [
        "inputfolder='/content/CTscan/nonCOVID'\n",
        "length=len(inputfolder)\n",
        "\n",
        "path='/content/resize/noncovid'\n",
        "os.makedirs(path,mode=0o666,exist_ok=True)\n",
        "\n",
        "for img in glob.glob(inputfolder+'/*.*'):\n",
        "    image=cv2.imread(img)\n",
        "    imgRe=cv2.resize(image,(224,224))\n",
        "    cv2.imwrite(path+img[length:],imgRe)"
      ]
    },
    {
      "cell_type": "code",
      "execution_count": 12,
      "id": "c6e0c362",
      "metadata": {
        "colab": {
          "base_uri": "https://localhost:8080/",
          "height": 35
        },
        "id": "c6e0c362",
        "outputId": "09af3882-d770-40ec-db3c-ff69cbf91a09"
      },
      "outputs": [
        {
          "output_type": "execute_result",
          "data": {
            "text/plain": [
              "'/content'"
            ],
            "application/vnd.google.colaboratory.intrinsic+json": {
              "type": "string"
            }
          },
          "metadata": {},
          "execution_count": 12
        }
      ],
      "source": [
        "curr"
      ]
    },
    {
      "cell_type": "code",
      "execution_count": 13,
      "id": "2ac55b4d",
      "metadata": {
        "id": "2ac55b4d"
      },
      "outputs": [],
      "source": [
        "input_folder=curr+'/resize'"
      ]
    },
    {
      "cell_type": "code",
      "execution_count": 14,
      "id": "18ea33f2",
      "metadata": {
        "colab": {
          "base_uri": "https://localhost:8080/"
        },
        "id": "18ea33f2",
        "outputId": "2ff6a799-020e-43d4-d62b-0069d2ab7c66"
      },
      "outputs": [
        {
          "output_type": "stream",
          "name": "stderr",
          "text": [
            "Copying files: 2480 files [00:00, 4351.02 files/s]\n"
          ]
        }
      ],
      "source": [
        "#splitting folder into train,test,val\n",
        "sf.ratio(input_folder,output='/content/final',seed=50,ratio=(.7,.2,.1),group_prefix=None,move=False)"
      ]
    },
    {
      "cell_type": "code",
      "execution_count": 15,
      "id": "ca855df7",
      "metadata": {
        "id": "ca855df7"
      },
      "outputs": [],
      "source": [
        "#Data agumentation\n",
        "train_datagen = ImageDataGenerator(rescale=1./255,\n",
        "                                   rotation_range=45,\n",
        "                                   width_shift_range=0.2,\n",
        "                                   height_shift_range=0.2,\n",
        "                                   shear_range=0.2,\n",
        "                                   zoom_range=0.2,)\n",
        "\n",
        "val_datagen = ImageDataGenerator(rescale=1./255)"
      ]
    },
    {
      "cell_type": "code",
      "execution_count": 16,
      "id": "7ce0be90",
      "metadata": {
        "id": "7ce0be90"
      },
      "outputs": [],
      "source": [
        "train_dir=curr+'/final/train'\n",
        "validation_dir=curr+'/final/val'"
      ]
    },
    {
      "cell_type": "code",
      "execution_count": 17,
      "id": "124c38b3",
      "metadata": {
        "colab": {
          "base_uri": "https://localhost:8080/"
        },
        "id": "124c38b3",
        "outputId": "1541c820-c4d2-4707-9ffa-2a875532bf40"
      },
      "outputs": [
        {
          "output_type": "stream",
          "name": "stdout",
          "text": [
            "Found 1735 images belonging to 2 classes.\n",
            "Found 495 images belonging to 2 classes.\n"
          ]
        }
      ],
      "source": [
        "#train & validation dataset generators\n",
        "train_generator = train_datagen.flow_from_directory(train_dir,\n",
        "                                                    target_size=(224, 224),\n",
        "                                                    batch_size=32,\n",
        "                                                    class_mode='binary',\n",
        "                                                   color_mode='grayscale')\n",
        "\n",
        "validation_generator = val_datagen.flow_from_directory(validation_dir,\n",
        "                                                        target_size=(224, 224),\n",
        "                                                        batch_size=32,\n",
        "                                                        class_mode='binary',\n",
        "                                                      color_mode='grayscale')"
      ]
    },
    {
      "cell_type": "code",
      "execution_count": 17,
      "id": "e1004378",
      "metadata": {
        "id": "e1004378"
      },
      "outputs": [],
      "source": []
    },
    {
      "cell_type": "code",
      "execution_count": 18,
      "id": "8071316b",
      "metadata": {
        "id": "8071316b"
      },
      "outputs": [],
      "source": [
        "#defining modelcheckpoints & early stopping\n",
        "filepath='saved_models/weights-improvement--{epoch:02d}--{val_acc:.2f}.hdf5'\n",
        "checkpoint=ModelCheckpoint(filepath,monitor='val_acc',verbose=1,save_best_only=True,mode='max')\n",
        "early_stop=EarlyStopping(monitor='val_loss',patience=10,verbose=1)\n",
        "log_csv=CSVLogger('my_logs.csv',separator=',',append=False)\n",
        "callbackslist=[checkpoint,early_stop,log_csv]"
      ]
    },
    {
      "cell_type": "code",
      "execution_count": 19,
      "id": "34c53a65",
      "metadata": {
        "id": "34c53a65"
      },
      "outputs": [],
      "source": [
        "#Defining Resnet50 model\n",
        "resnet_model = Sequential()\n",
        "\n",
        "pretrained_model= tf.keras.applications.ResNet50(include_top=False,\n",
        "                   input_shape=(224,224,1),\n",
        "                   pooling=None,classes=2,\n",
        "                   weights=None)\n",
        "for layer in pretrained_model.layers:\n",
        "        layer.trainable=False\n"
      ]
    },
    {
      "cell_type": "code",
      "execution_count": 20,
      "id": "d578fed4",
      "metadata": {
        "id": "d578fed4"
      },
      "outputs": [],
      "source": [
        "#Adding layers to resent model\n",
        "resnet_model.add(pretrained_model)\n",
        "resnet_model.add(layers.Conv2D(32, 3, activation='relu',padding='same',\n",
        "                               input_shape=(224,224,1),data_format='channels_last'))\n",
        "resnet_model.add(layers.MaxPooling2D(pool_size=2, strides=2,padding='same'))\n",
        "resnet_model.add(layers.Conv2D(64, 3, activation='relu',padding='same'))\n",
        "resnet_model.add(layers.MaxPooling2D(pool_size=2, strides=2,padding='same'))\n",
        "resnet_model.add(layers.Conv2D(128, 3, activation='relu',padding='same'))\n",
        "resnet_model.add(layers.MaxPooling2D(pool_size=2, strides=2,padding='same'))\n",
        "resnet_model.add(layers.Conv2D(128, 3, activation='relu',padding='same'))\n",
        "resnet_model.add(layers.MaxPooling2D(pool_size=2, strides=2,padding='same'))\n",
        "resnet_model.add(layers.Flatten())\n",
        "resnet_model.add(layers.Dropout(0.5))\n",
        "resnet_model.add(layers.Dense(512, activation='relu'))\n",
        "resnet_model.add(layers.Dense(1, activation='sigmoid'))"
      ]
    },
    {
      "cell_type": "code",
      "execution_count": 21,
      "id": "707f6feb",
      "metadata": {
        "colab": {
          "base_uri": "https://localhost:8080/"
        },
        "id": "707f6feb",
        "outputId": "104d922e-2e85-4afc-efda-4be6ba6c3c49"
      },
      "outputs": [
        {
          "output_type": "stream",
          "name": "stdout",
          "text": [
            "Model: \"sequential\"\n",
            "_________________________________________________________________\n",
            " Layer (type)                Output Shape              Param #   \n",
            "=================================================================\n",
            " resnet50 (Functional)       (None, 7, 7, 2048)        23581440  \n",
            "                                                                 \n",
            " conv2d (Conv2D)             (None, 7, 7, 32)          589856    \n",
            "                                                                 \n",
            " max_pooling2d (MaxPooling2D  (None, 4, 4, 32)         0         \n",
            " )                                                               \n",
            "                                                                 \n",
            " conv2d_1 (Conv2D)           (None, 4, 4, 64)          18496     \n",
            "                                                                 \n",
            " max_pooling2d_1 (MaxPooling  (None, 2, 2, 64)         0         \n",
            " 2D)                                                             \n",
            "                                                                 \n",
            " conv2d_2 (Conv2D)           (None, 2, 2, 128)         73856     \n",
            "                                                                 \n",
            " max_pooling2d_2 (MaxPooling  (None, 1, 1, 128)        0         \n",
            " 2D)                                                             \n",
            "                                                                 \n",
            " conv2d_3 (Conv2D)           (None, 1, 1, 128)         147584    \n",
            "                                                                 \n",
            " max_pooling2d_3 (MaxPooling  (None, 1, 1, 128)        0         \n",
            " 2D)                                                             \n",
            "                                                                 \n",
            " flatten (Flatten)           (None, 128)               0         \n",
            "                                                                 \n",
            " dropout (Dropout)           (None, 128)               0         \n",
            "                                                                 \n",
            " dense (Dense)               (None, 512)               66048     \n",
            "                                                                 \n",
            " dense_1 (Dense)             (None, 1)                 513       \n",
            "                                                                 \n",
            "=================================================================\n",
            "Total params: 24,477,793\n",
            "Trainable params: 896,353\n",
            "Non-trainable params: 23,581,440\n",
            "_________________________________________________________________\n"
          ]
        }
      ],
      "source": [
        "#model summary\n",
        "resnet_model.summary()"
      ]
    },
    {
      "cell_type": "code",
      "execution_count": 22,
      "id": "5ba20e6b",
      "metadata": {
        "id": "5ba20e6b"
      },
      "outputs": [],
      "source": [
        "#compiling model\n",
        "resnet_model.compile(loss='binary_crossentropy',\n",
        "              optimizer=Adam(learning_rate=0.0001),\n",
        "              metrics=['acc','Precision','Recall','AUC'])"
      ]
    },
    {
      "cell_type": "code",
      "execution_count": 23,
      "id": "8f256bd4",
      "metadata": {
        "colab": {
          "base_uri": "https://localhost:8080/"
        },
        "id": "8f256bd4",
        "outputId": "79d06425-2a0c-43ec-aec6-b00fc63385cc"
      },
      "outputs": [
        {
          "output_type": "stream",
          "name": "stdout",
          "text": [
            "Epoch 1/100\n",
            "54/54 [==============================] - ETA: 0s - loss: 0.6932 - acc: 0.4885 - precision: 0.4842 - recall: 0.5101 - auc: 0.4928\n",
            "Epoch 1: val_acc improved from -inf to 0.50000, saving model to saved_models/weights-improvement--01--0.50.hdf5\n",
            "54/54 [==============================] - 31s 274ms/step - loss: 0.6932 - acc: 0.4885 - precision: 0.4842 - recall: 0.5101 - auc: 0.4928 - val_loss: 0.6930 - val_acc: 0.5000 - val_precision: 0.0000e+00 - val_recall: 0.0000e+00 - val_auc: 0.5938\n",
            "Epoch 2/100\n",
            "54/54 [==============================] - ETA: 0s - loss: 0.6929 - acc: 0.5085 - precision: 0.5385 - recall: 0.0333 - auc: 0.5087\n",
            "Epoch 2: val_acc improved from 0.50000 to 0.50625, saving model to saved_models/weights-improvement--02--0.51.hdf5\n",
            "54/54 [==============================] - 13s 241ms/step - loss: 0.6929 - acc: 0.5085 - precision: 0.5385 - recall: 0.0333 - auc: 0.5087 - val_loss: 0.6923 - val_acc: 0.5063 - val_precision: 0.0000e+00 - val_recall: 0.0000e+00 - val_auc: 0.5513\n",
            "Epoch 3/100\n",
            "54/54 [==============================] - ETA: 0s - loss: 0.6929 - acc: 0.5009 - precision: 0.4130 - recall: 0.0226 - auc: 0.5078\n",
            "Epoch 3: val_acc did not improve from 0.50625\n",
            "54/54 [==============================] - 14s 264ms/step - loss: 0.6929 - acc: 0.5009 - precision: 0.4130 - recall: 0.0226 - auc: 0.5078 - val_loss: 0.6919 - val_acc: 0.5063 - val_precision: 0.0000e+00 - val_recall: 0.0000e+00 - val_auc: 0.6644\n",
            "Epoch 4/100\n",
            "54/54 [==============================] - ETA: 0s - loss: 0.6925 - acc: 0.5046 - precision: 0.0000e+00 - recall: 0.0000e+00 - auc: 0.5274\n",
            "Epoch 4: val_acc did not improve from 0.50625\n",
            "54/54 [==============================] - 13s 247ms/step - loss: 0.6925 - acc: 0.5046 - precision: 0.0000e+00 - recall: 0.0000e+00 - auc: 0.5274 - val_loss: 0.6913 - val_acc: 0.5063 - val_precision: 0.0000e+00 - val_recall: 0.0000e+00 - val_auc: 0.6703\n",
            "Epoch 5/100\n",
            "54/54 [==============================] - ETA: 0s - loss: 0.6920 - acc: 0.5056 - precision: 0.5000 - recall: 0.0012 - auc: 0.5557\n",
            "Epoch 5: val_acc did not improve from 0.50625\n",
            "54/54 [==============================] - 13s 237ms/step - loss: 0.6920 - acc: 0.5056 - precision: 0.5000 - recall: 0.0012 - auc: 0.5557 - val_loss: 0.6905 - val_acc: 0.5063 - val_precision: 0.0000e+00 - val_recall: 0.0000e+00 - val_auc: 0.6891\n",
            "Epoch 6/100\n",
            "54/54 [==============================] - ETA: 0s - loss: 0.6908 - acc: 0.5109 - precision: 0.6875 - recall: 0.0260 - auc: 0.5832\n",
            "Epoch 6: val_acc did not improve from 0.50625\n",
            "54/54 [==============================] - 13s 235ms/step - loss: 0.6908 - acc: 0.5109 - precision: 0.6875 - recall: 0.0260 - auc: 0.5832 - val_loss: 0.6887 - val_acc: 0.5042 - val_precision: 0.0000e+00 - val_recall: 0.0000e+00 - val_auc: 0.7209\n",
            "Epoch 7/100\n",
            "54/54 [==============================] - ETA: 0s - loss: 0.6885 - acc: 0.5203 - precision: 0.5486 - recall: 0.1870 - auc: 0.5725\n",
            "Epoch 7: val_acc improved from 0.50625 to 0.52917, saving model to saved_models/weights-improvement--07--0.53.hdf5\n",
            "54/54 [==============================] - 14s 260ms/step - loss: 0.6885 - acc: 0.5203 - precision: 0.5486 - recall: 0.1870 - auc: 0.5725 - val_loss: 0.6830 - val_acc: 0.5292 - val_precision: 0.9231 - val_recall: 0.0506 - val_auc: 0.7490\n",
            "Epoch 8/100\n",
            "54/54 [==============================] - ETA: 0s - loss: 0.6814 - acc: 0.5608 - precision: 0.6189 - recall: 0.2878 - auc: 0.6202\n",
            "Epoch 8: val_acc improved from 0.52917 to 0.69375, saving model to saved_models/weights-improvement--08--0.69.hdf5\n",
            "54/54 [==============================] - 13s 247ms/step - loss: 0.6814 - acc: 0.5608 - precision: 0.6189 - recall: 0.2878 - auc: 0.6202 - val_loss: 0.6702 - val_acc: 0.6938 - val_precision: 0.6334 - val_recall: 0.9076 - val_auc: 0.7648\n",
            "Epoch 9/100\n",
            "54/54 [==============================] - ETA: 0s - loss: 0.6621 - acc: 0.6048 - precision: 0.6165 - recall: 0.5262 - auc: 0.6558\n",
            "Epoch 9: val_acc did not improve from 0.69375\n",
            "54/54 [==============================] - 14s 256ms/step - loss: 0.6621 - acc: 0.6048 - precision: 0.6165 - recall: 0.5262 - auc: 0.6558 - val_loss: 0.6798 - val_acc: 0.5542 - val_precision: 0.5213 - val_recall: 0.9957 - val_auc: 0.7735\n",
            "Epoch 10/100\n",
            "54/54 [==============================] - ETA: 0s - loss: 0.6405 - acc: 0.6377 - precision: 0.6238 - recall: 0.6863 - auc: 0.6782\n",
            "Epoch 10: val_acc improved from 0.69375 to 0.70000, saving model to saved_models/weights-improvement--10--0.70.hdf5\n",
            "54/54 [==============================] - 15s 268ms/step - loss: 0.6405 - acc: 0.6377 - precision: 0.6238 - recall: 0.6863 - auc: 0.6782 - val_loss: 0.5883 - val_acc: 0.7000 - val_precision: 0.6537 - val_recall: 0.8452 - val_auc: 0.7763\n",
            "Epoch 11/100\n",
            "54/54 [==============================] - ETA: 0s - loss: 0.6193 - acc: 0.6459 - precision: 0.6170 - recall: 0.7509 - auc: 0.6968\n",
            "Epoch 11: val_acc did not improve from 0.70000\n",
            "54/54 [==============================] - 13s 239ms/step - loss: 0.6193 - acc: 0.6459 - precision: 0.6170 - recall: 0.7509 - auc: 0.6968 - val_loss: 0.6536 - val_acc: 0.6146 - val_precision: 0.5612 - val_recall: 0.9915 - val_auc: 0.7807\n",
            "Epoch 12/100\n",
            "54/54 [==============================] - ETA: 0s - loss: 0.6070 - acc: 0.6682 - precision: 0.6291 - recall: 0.8111 - auc: 0.7009\n",
            "Epoch 12: val_acc did not improve from 0.70000\n",
            "54/54 [==============================] - 13s 240ms/step - loss: 0.6070 - acc: 0.6682 - precision: 0.6291 - recall: 0.8111 - auc: 0.7009 - val_loss: 0.5769 - val_acc: 0.6854 - val_precision: 0.6679 - val_recall: 0.7375 - val_auc: 0.7620\n",
            "Epoch 13/100\n",
            "54/54 [==============================] - ETA: 0s - loss: 0.6078 - acc: 0.6565 - precision: 0.6213 - recall: 0.7922 - auc: 0.7013\n",
            "Epoch 13: val_acc did not improve from 0.70000\n",
            "54/54 [==============================] - 14s 257ms/step - loss: 0.6078 - acc: 0.6565 - precision: 0.6213 - recall: 0.7922 - auc: 0.7013 - val_loss: 0.6552 - val_acc: 0.6021 - val_precision: 0.5542 - val_recall: 0.9916 - val_auc: 0.7698\n",
            "Epoch 14/100\n",
            "54/54 [==============================] - ETA: 0s - loss: 0.6172 - acc: 0.6459 - precision: 0.6104 - recall: 0.7891 - auc: 0.6886\n",
            "Epoch 14: val_acc did not improve from 0.70000\n",
            "54/54 [==============================] - 14s 260ms/step - loss: 0.6172 - acc: 0.6459 - precision: 0.6104 - recall: 0.7891 - auc: 0.6886 - val_loss: 0.6010 - val_acc: 0.6521 - val_precision: 0.5868 - val_recall: 0.9571 - val_auc: 0.7867\n",
            "Epoch 15/100\n",
            "54/54 [==============================] - ETA: 0s - loss: 0.6116 - acc: 0.6629 - precision: 0.6214 - recall: 0.8227 - auc: 0.7089\n",
            "Epoch 15: val_acc did not improve from 0.70000\n",
            "54/54 [==============================] - 14s 258ms/step - loss: 0.6116 - acc: 0.6629 - precision: 0.6214 - recall: 0.8227 - auc: 0.7089 - val_loss: 0.6238 - val_acc: 0.6313 - val_precision: 0.5739 - val_recall: 0.9831 - val_auc: 0.7885\n",
            "Epoch 16/100\n",
            "54/54 [==============================] - ETA: 0s - loss: 0.6082 - acc: 0.6641 - precision: 0.6249 - recall: 0.8123 - auc: 0.7088\n",
            "Epoch 16: val_acc improved from 0.70000 to 0.70208, saving model to saved_models/weights-improvement--16--0.70.hdf5\n",
            "54/54 [==============================] - 14s 264ms/step - loss: 0.6082 - acc: 0.6641 - precision: 0.6249 - recall: 0.8123 - auc: 0.7088 - val_loss: 0.5661 - val_acc: 0.7021 - val_precision: 0.6561 - val_recall: 0.8548 - val_auc: 0.7788\n",
            "Epoch 17/100\n",
            "54/54 [==============================] - ETA: 0s - loss: 0.6072 - acc: 0.6667 - precision: 0.6285 - recall: 0.8056 - auc: 0.7058\n",
            "Epoch 17: val_acc did not improve from 0.70208\n",
            "54/54 [==============================] - 14s 257ms/step - loss: 0.6072 - acc: 0.6667 - precision: 0.6285 - recall: 0.8056 - auc: 0.7058 - val_loss: 0.5678 - val_acc: 0.6958 - val_precision: 0.6391 - val_recall: 0.8819 - val_auc: 0.7759\n",
            "Epoch 18/100\n",
            "54/54 [==============================] - ETA: 0s - loss: 0.5943 - acc: 0.6806 - precision: 0.6393 - recall: 0.8191 - auc: 0.7190\n",
            "Epoch 18: val_acc did not improve from 0.70208\n",
            "54/54 [==============================] - 13s 236ms/step - loss: 0.5943 - acc: 0.6806 - precision: 0.6393 - recall: 0.8191 - auc: 0.7190 - val_loss: 0.5720 - val_acc: 0.6854 - val_precision: 0.6218 - val_recall: 0.9328 - val_auc: 0.7936\n",
            "Epoch 19/100\n",
            "54/54 [==============================] - ETA: 0s - loss: 0.5996 - acc: 0.6682 - precision: 0.6220 - recall: 0.8450 - auc: 0.7088\n",
            "Epoch 19: val_acc did not improve from 0.70208\n",
            "54/54 [==============================] - 14s 255ms/step - loss: 0.5996 - acc: 0.6682 - precision: 0.6220 - recall: 0.8450 - auc: 0.7088 - val_loss: 0.5873 - val_acc: 0.6687 - val_precision: 0.6033 - val_recall: 0.9447 - val_auc: 0.7850\n",
            "Epoch 20/100\n",
            "54/54 [==============================] - ETA: 0s - loss: 0.6084 - acc: 0.6600 - precision: 0.6229 - recall: 0.7936 - auc: 0.7111\n",
            "Epoch 20: val_acc did not improve from 0.70208\n",
            "54/54 [==============================] - 13s 238ms/step - loss: 0.6084 - acc: 0.6600 - precision: 0.6229 - recall: 0.7936 - auc: 0.7111 - val_loss: 0.5902 - val_acc: 0.6667 - val_precision: 0.6069 - val_recall: 0.9544 - val_auc: 0.7853\n",
            "Epoch 21/100\n",
            "54/54 [==============================] - ETA: 0s - loss: 0.5969 - acc: 0.6718 - precision: 0.6304 - recall: 0.8164 - auc: 0.7256\n",
            "Epoch 21: val_acc did not improve from 0.70208\n",
            "54/54 [==============================] - 13s 231ms/step - loss: 0.5969 - acc: 0.6718 - precision: 0.6304 - recall: 0.8164 - auc: 0.7256 - val_loss: 0.5927 - val_acc: 0.6646 - val_precision: 0.6021 - val_recall: 0.9708 - val_auc: 0.7970\n",
            "Epoch 22/100\n",
            "54/54 [==============================] - ETA: 0s - loss: 0.5940 - acc: 0.6806 - precision: 0.6406 - recall: 0.8078 - auc: 0.7178\n",
            "Epoch 22: val_acc did not improve from 0.70208\n",
            "54/54 [==============================] - 13s 237ms/step - loss: 0.5940 - acc: 0.6806 - precision: 0.6406 - recall: 0.8078 - auc: 0.7178 - val_loss: 0.5871 - val_acc: 0.6646 - val_precision: 0.6005 - val_recall: 0.9578 - val_auc: 0.7934\n",
            "Epoch 23/100\n",
            "54/54 [==============================] - ETA: 0s - loss: 0.5866 - acc: 0.6888 - precision: 0.6454 - recall: 0.8339 - auc: 0.7343\n",
            "Epoch 23: val_acc did not improve from 0.70208\n",
            "54/54 [==============================] - 12s 219ms/step - loss: 0.5866 - acc: 0.6888 - precision: 0.6454 - recall: 0.8339 - auc: 0.7343 - val_loss: 0.5827 - val_acc: 0.6729 - val_precision: 0.6066 - val_recall: 0.9447 - val_auc: 0.7859\n",
            "Epoch 24/100\n",
            "54/54 [==============================] - ETA: 0s - loss: 0.5912 - acc: 0.6841 - precision: 0.6420 - recall: 0.8213 - auc: 0.7244\n",
            "Epoch 24: val_acc did not improve from 0.70208\n",
            "54/54 [==============================] - 13s 230ms/step - loss: 0.5912 - acc: 0.6841 - precision: 0.6420 - recall: 0.8213 - auc: 0.7244 - val_loss: 0.5730 - val_acc: 0.6917 - val_precision: 0.6264 - val_recall: 0.9370 - val_auc: 0.7856\n",
            "Epoch 25/100\n",
            "54/54 [==============================] - ETA: 0s - loss: 0.5837 - acc: 0.6858 - precision: 0.6404 - recall: 0.8314 - auc: 0.7307\n",
            "Epoch 25: val_acc improved from 0.70208 to 0.72292, saving model to saved_models/weights-improvement--25--0.72.hdf5\n",
            "54/54 [==============================] - 14s 264ms/step - loss: 0.5837 - acc: 0.6858 - precision: 0.6404 - recall: 0.8314 - auc: 0.7307 - val_loss: 0.5604 - val_acc: 0.7229 - val_precision: 0.7063 - val_recall: 0.7511 - val_auc: 0.7826\n",
            "Epoch 26/100\n",
            "54/54 [==============================] - ETA: 0s - loss: 0.6037 - acc: 0.6700 - precision: 0.6240 - recall: 0.8308 - auc: 0.7114\n",
            "Epoch 26: val_acc did not improve from 0.72292\n",
            "54/54 [==============================] - 14s 258ms/step - loss: 0.6037 - acc: 0.6700 - precision: 0.6240 - recall: 0.8308 - auc: 0.7114 - val_loss: 0.5822 - val_acc: 0.6792 - val_precision: 0.6111 - val_recall: 0.9402 - val_auc: 0.7874\n",
            "Epoch 27/100\n",
            "54/54 [==============================] - ETA: 0s - loss: 0.5868 - acc: 0.6794 - precision: 0.6371 - recall: 0.8239 - auc: 0.7300\n",
            "Epoch 27: val_acc did not improve from 0.72292\n",
            "54/54 [==============================] - 14s 257ms/step - loss: 0.5868 - acc: 0.6794 - precision: 0.6371 - recall: 0.8239 - auc: 0.7300 - val_loss: 0.6082 - val_acc: 0.6479 - val_precision: 0.5854 - val_recall: 0.9831 - val_auc: 0.7735\n",
            "Epoch 28/100\n",
            "54/54 [==============================] - ETA: 0s - loss: 0.5931 - acc: 0.6870 - precision: 0.6364 - recall: 0.8629 - auc: 0.7212\n",
            "Epoch 28: val_acc did not improve from 0.72292\n",
            "54/54 [==============================] - 13s 238ms/step - loss: 0.5931 - acc: 0.6870 - precision: 0.6364 - recall: 0.8629 - auc: 0.7212 - val_loss: 0.5698 - val_acc: 0.6896 - val_precision: 0.6257 - val_recall: 0.9241 - val_auc: 0.7819\n",
            "Epoch 29/100\n",
            "54/54 [==============================] - ETA: 0s - loss: 0.6022 - acc: 0.6600 - precision: 0.6170 - recall: 0.8322 - auc: 0.7137\n",
            "Epoch 29: val_acc did not improve from 0.72292\n",
            "54/54 [==============================] - 14s 258ms/step - loss: 0.6022 - acc: 0.6600 - precision: 0.6170 - recall: 0.8322 - auc: 0.7137 - val_loss: 0.5865 - val_acc: 0.6646 - val_precision: 0.6042 - val_recall: 0.9542 - val_auc: 0.7805\n",
            "Epoch 30/100\n",
            "54/54 [==============================] - ETA: 0s - loss: 0.5982 - acc: 0.6676 - precision: 0.6209 - recall: 0.8395 - auc: 0.7163\n",
            "Epoch 30: val_acc did not improve from 0.72292\n",
            "54/54 [==============================] - 13s 238ms/step - loss: 0.5982 - acc: 0.6676 - precision: 0.6209 - recall: 0.8395 - auc: 0.7163 - val_loss: 0.5755 - val_acc: 0.6833 - val_precision: 0.6181 - val_recall: 0.9454 - val_auc: 0.7853\n",
            "Epoch 31/100\n",
            "54/54 [==============================] - ETA: 0s - loss: 0.5957 - acc: 0.6653 - precision: 0.6191 - recall: 0.8501 - auc: 0.7175\n",
            "Epoch 31: val_acc did not improve from 0.72292\n",
            "54/54 [==============================] - 14s 257ms/step - loss: 0.5957 - acc: 0.6653 - precision: 0.6191 - recall: 0.8501 - auc: 0.7175 - val_loss: 0.5759 - val_acc: 0.6854 - val_precision: 0.6247 - val_recall: 0.9421 - val_auc: 0.7880\n",
            "Epoch 32/100\n",
            "54/54 [==============================] - ETA: 0s - loss: 0.5839 - acc: 0.6894 - precision: 0.6470 - recall: 0.8197 - auc: 0.7407\n",
            "Epoch 32: val_acc did not improve from 0.72292\n",
            "54/54 [==============================] - 13s 242ms/step - loss: 0.5839 - acc: 0.6894 - precision: 0.6470 - recall: 0.8197 - auc: 0.7407 - val_loss: 0.5559 - val_acc: 0.6979 - val_precision: 0.6544 - val_recall: 0.8228 - val_auc: 0.7846\n",
            "Epoch 33/100\n",
            "54/54 [==============================] - ETA: 0s - loss: 0.5809 - acc: 0.6958 - precision: 0.6546 - recall: 0.8175 - auc: 0.7437\n",
            "Epoch 33: val_acc did not improve from 0.72292\n",
            "54/54 [==============================] - 13s 247ms/step - loss: 0.5809 - acc: 0.6958 - precision: 0.6546 - recall: 0.8175 - auc: 0.7437 - val_loss: 0.5719 - val_acc: 0.6833 - val_precision: 0.6204 - val_recall: 0.9241 - val_auc: 0.7801\n",
            "Epoch 34/100\n",
            "54/54 [==============================] - ETA: 0s - loss: 0.5749 - acc: 0.6970 - precision: 0.6511 - recall: 0.8391 - auc: 0.7472\n",
            "Epoch 34: val_acc did not improve from 0.72292\n",
            "54/54 [==============================] - 13s 244ms/step - loss: 0.5749 - acc: 0.6970 - precision: 0.6511 - recall: 0.8391 - auc: 0.7472 - val_loss: 0.6140 - val_acc: 0.6417 - val_precision: 0.5810 - val_recall: 0.9831 - val_auc: 0.7698\n",
            "Epoch 35/100\n",
            "54/54 [==============================] - ETA: 0s - loss: 0.5951 - acc: 0.6753 - precision: 0.6330 - recall: 0.8185 - auc: 0.7272\n",
            "Epoch 35: val_acc did not improve from 0.72292\n",
            "54/54 [==============================] - 13s 243ms/step - loss: 0.5951 - acc: 0.6753 - precision: 0.6330 - recall: 0.8185 - auc: 0.7272 - val_loss: 0.5661 - val_acc: 0.6917 - val_precision: 0.6289 - val_recall: 0.9289 - val_auc: 0.7891\n",
            "Epoch 36/100\n",
            "54/54 [==============================] - ETA: 0s - loss: 0.5961 - acc: 0.6735 - precision: 0.6334 - recall: 0.8064 - auc: 0.7261\n",
            "Epoch 36: val_acc did not improve from 0.72292\n",
            "54/54 [==============================] - 13s 244ms/step - loss: 0.5961 - acc: 0.6735 - precision: 0.6334 - recall: 0.8064 - auc: 0.7261 - val_loss: 0.5713 - val_acc: 0.6917 - val_precision: 0.6290 - val_recall: 0.9156 - val_auc: 0.7885\n",
            "Epoch 37/100\n",
            "54/54 [==============================] - ETA: 0s - loss: 0.5876 - acc: 0.6853 - precision: 0.6395 - recall: 0.8312 - auc: 0.7299\n",
            "Epoch 37: val_acc did not improve from 0.72292\n",
            "54/54 [==============================] - 14s 263ms/step - loss: 0.5876 - acc: 0.6853 - precision: 0.6395 - recall: 0.8312 - auc: 0.7299 - val_loss: 0.5622 - val_acc: 0.6854 - val_precision: 0.6239 - val_recall: 0.9068 - val_auc: 0.7910\n",
            "Epoch 38/100\n",
            "54/54 [==============================] - ETA: 0s - loss: 0.5889 - acc: 0.6847 - precision: 0.6385 - recall: 0.8455 - auc: 0.7284\n",
            "Epoch 38: val_acc did not improve from 0.72292\n",
            "54/54 [==============================] - 13s 247ms/step - loss: 0.5889 - acc: 0.6847 - precision: 0.6385 - recall: 0.8455 - auc: 0.7284 - val_loss: 0.5723 - val_acc: 0.6854 - val_precision: 0.6201 - val_recall: 0.9367 - val_auc: 0.7943\n",
            "Epoch 39/100\n",
            "54/54 [==============================] - ETA: 0s - loss: 0.5858 - acc: 0.6911 - precision: 0.6464 - recall: 0.8304 - auc: 0.7417\n",
            "Epoch 39: val_acc did not improve from 0.72292\n",
            "54/54 [==============================] - 13s 229ms/step - loss: 0.5858 - acc: 0.6911 - precision: 0.6464 - recall: 0.8304 - auc: 0.7417 - val_loss: 0.5699 - val_acc: 0.6854 - val_precision: 0.6250 - val_recall: 0.9205 - val_auc: 0.7849\n",
            "Epoch 40/100\n",
            "53/54 [============================>.] - ETA: 0s - loss: 0.5734 - acc: 0.7005 - precision: 0.6541 - recall: 0.8311 - auc: 0.7377\n",
            "Epoch 40: val_acc did not improve from 0.72292\n",
            "54/54 [==============================] - 14s 263ms/step - loss: 0.5735 - acc: 0.7005 - precision: 0.6542 - recall: 0.8319 - auc: 0.7371 - val_loss: 0.5770 - val_acc: 0.6792 - val_precision: 0.6139 - val_recall: 0.9364 - val_auc: 0.7735\n",
            "Epoch 41/100\n",
            "54/54 [==============================] - ETA: 0s - loss: 0.5751 - acc: 0.6947 - precision: 0.6516 - recall: 0.8219 - auc: 0.7562\n",
            "Epoch 41: val_acc did not improve from 0.72292\n",
            "54/54 [==============================] - 14s 251ms/step - loss: 0.5751 - acc: 0.6947 - precision: 0.6516 - recall: 0.8219 - auc: 0.7562 - val_loss: 0.5820 - val_acc: 0.6750 - val_precision: 0.6117 - val_recall: 0.9583 - val_auc: 0.7768\n",
            "Epoch 42/100\n",
            "54/54 [==============================] - ETA: 0s - loss: 0.5873 - acc: 0.6676 - precision: 0.6247 - recall: 0.8312 - auc: 0.7387\n",
            "Epoch 42: val_acc did not improve from 0.72292\n",
            "54/54 [==============================] - 13s 240ms/step - loss: 0.5873 - acc: 0.6676 - precision: 0.6247 - recall: 0.8312 - auc: 0.7387 - val_loss: 0.6014 - val_acc: 0.6521 - val_precision: 0.5888 - val_recall: 0.9789 - val_auc: 0.7667\n",
            "Epoch 42: early stopping\n"
          ]
        }
      ],
      "source": [
        "#model fitting\n",
        "batch_size=32\n",
        "history=resnet_model.fit(train_generator,\n",
        "                   steps_per_epoch=1735//batch_size,\n",
        "                   epochs=100,\n",
        "                   validation_data=validation_generator,\n",
        "                   validation_steps=495//batch_size,\n",
        "                   callbacks=callbackslist)"
      ]
    },
    {
      "cell_type": "code",
      "source": [
        "hist=pd.DataFrame(history.history)\n",
        "hist.tail()"
      ],
      "metadata": {
        "colab": {
          "base_uri": "https://localhost:8080/",
          "height": 206
        },
        "id": "L-y0IBzO-hNL",
        "outputId": "24db6bab-05ac-42c5-8cf3-33a7289e1d80"
      },
      "id": "L-y0IBzO-hNL",
      "execution_count": 47,
      "outputs": [
        {
          "output_type": "execute_result",
          "data": {
            "text/plain": [
              "        loss       acc  precision    recall       auc  val_loss   val_acc  \\\n",
              "37  0.588929  0.684674   0.638468  0.845519  0.728447  0.572346  0.685417   \n",
              "38  0.585814  0.691133   0.646353  0.830368  0.741747  0.569873  0.685417   \n",
              "39  0.573469  0.700529   0.654171  0.831943  0.737138  0.577034  0.679167   \n",
              "40  0.575123  0.694656   0.651601  0.821853  0.756249  0.582048  0.675000   \n",
              "41  0.587297  0.667645   0.624667  0.831169  0.738742  0.601359  0.652083   \n",
              "\n",
              "    val_precision  val_recall   val_auc  \n",
              "37       0.620112    0.936709  0.794273  \n",
              "38       0.625000    0.920502  0.784892  \n",
              "39       0.613889    0.936441  0.773522  \n",
              "40       0.611702    0.958333  0.776849  \n",
              "41       0.588832    0.978903  0.766674  "
            ],
            "text/html": [
              "\n",
              "  <div id=\"df-284cf1b9-6518-4fb9-8a96-7b9e378721df\">\n",
              "    <div class=\"colab-df-container\">\n",
              "      <div>\n",
              "<style scoped>\n",
              "    .dataframe tbody tr th:only-of-type {\n",
              "        vertical-align: middle;\n",
              "    }\n",
              "\n",
              "    .dataframe tbody tr th {\n",
              "        vertical-align: top;\n",
              "    }\n",
              "\n",
              "    .dataframe thead th {\n",
              "        text-align: right;\n",
              "    }\n",
              "</style>\n",
              "<table border=\"1\" class=\"dataframe\">\n",
              "  <thead>\n",
              "    <tr style=\"text-align: right;\">\n",
              "      <th></th>\n",
              "      <th>loss</th>\n",
              "      <th>acc</th>\n",
              "      <th>precision</th>\n",
              "      <th>recall</th>\n",
              "      <th>auc</th>\n",
              "      <th>val_loss</th>\n",
              "      <th>val_acc</th>\n",
              "      <th>val_precision</th>\n",
              "      <th>val_recall</th>\n",
              "      <th>val_auc</th>\n",
              "    </tr>\n",
              "  </thead>\n",
              "  <tbody>\n",
              "    <tr>\n",
              "      <th>37</th>\n",
              "      <td>0.588929</td>\n",
              "      <td>0.684674</td>\n",
              "      <td>0.638468</td>\n",
              "      <td>0.845519</td>\n",
              "      <td>0.728447</td>\n",
              "      <td>0.572346</td>\n",
              "      <td>0.685417</td>\n",
              "      <td>0.620112</td>\n",
              "      <td>0.936709</td>\n",
              "      <td>0.794273</td>\n",
              "    </tr>\n",
              "    <tr>\n",
              "      <th>38</th>\n",
              "      <td>0.585814</td>\n",
              "      <td>0.691133</td>\n",
              "      <td>0.646353</td>\n",
              "      <td>0.830368</td>\n",
              "      <td>0.741747</td>\n",
              "      <td>0.569873</td>\n",
              "      <td>0.685417</td>\n",
              "      <td>0.625000</td>\n",
              "      <td>0.920502</td>\n",
              "      <td>0.784892</td>\n",
              "    </tr>\n",
              "    <tr>\n",
              "      <th>39</th>\n",
              "      <td>0.573469</td>\n",
              "      <td>0.700529</td>\n",
              "      <td>0.654171</td>\n",
              "      <td>0.831943</td>\n",
              "      <td>0.737138</td>\n",
              "      <td>0.577034</td>\n",
              "      <td>0.679167</td>\n",
              "      <td>0.613889</td>\n",
              "      <td>0.936441</td>\n",
              "      <td>0.773522</td>\n",
              "    </tr>\n",
              "    <tr>\n",
              "      <th>40</th>\n",
              "      <td>0.575123</td>\n",
              "      <td>0.694656</td>\n",
              "      <td>0.651601</td>\n",
              "      <td>0.821853</td>\n",
              "      <td>0.756249</td>\n",
              "      <td>0.582048</td>\n",
              "      <td>0.675000</td>\n",
              "      <td>0.611702</td>\n",
              "      <td>0.958333</td>\n",
              "      <td>0.776849</td>\n",
              "    </tr>\n",
              "    <tr>\n",
              "      <th>41</th>\n",
              "      <td>0.587297</td>\n",
              "      <td>0.667645</td>\n",
              "      <td>0.624667</td>\n",
              "      <td>0.831169</td>\n",
              "      <td>0.738742</td>\n",
              "      <td>0.601359</td>\n",
              "      <td>0.652083</td>\n",
              "      <td>0.588832</td>\n",
              "      <td>0.978903</td>\n",
              "      <td>0.766674</td>\n",
              "    </tr>\n",
              "  </tbody>\n",
              "</table>\n",
              "</div>\n",
              "      <button class=\"colab-df-convert\" onclick=\"convertToInteractive('df-284cf1b9-6518-4fb9-8a96-7b9e378721df')\"\n",
              "              title=\"Convert this dataframe to an interactive table.\"\n",
              "              style=\"display:none;\">\n",
              "        \n",
              "  <svg xmlns=\"http://www.w3.org/2000/svg\" height=\"24px\"viewBox=\"0 0 24 24\"\n",
              "       width=\"24px\">\n",
              "    <path d=\"M0 0h24v24H0V0z\" fill=\"none\"/>\n",
              "    <path d=\"M18.56 5.44l.94 2.06.94-2.06 2.06-.94-2.06-.94-.94-2.06-.94 2.06-2.06.94zm-11 1L8.5 8.5l.94-2.06 2.06-.94-2.06-.94L8.5 2.5l-.94 2.06-2.06.94zm10 10l.94 2.06.94-2.06 2.06-.94-2.06-.94-.94-2.06-.94 2.06-2.06.94z\"/><path d=\"M17.41 7.96l-1.37-1.37c-.4-.4-.92-.59-1.43-.59-.52 0-1.04.2-1.43.59L10.3 9.45l-7.72 7.72c-.78.78-.78 2.05 0 2.83L4 21.41c.39.39.9.59 1.41.59.51 0 1.02-.2 1.41-.59l7.78-7.78 2.81-2.81c.8-.78.8-2.07 0-2.86zM5.41 20L4 18.59l7.72-7.72 1.47 1.35L5.41 20z\"/>\n",
              "  </svg>\n",
              "      </button>\n",
              "      \n",
              "  <style>\n",
              "    .colab-df-container {\n",
              "      display:flex;\n",
              "      flex-wrap:wrap;\n",
              "      gap: 12px;\n",
              "    }\n",
              "\n",
              "    .colab-df-convert {\n",
              "      background-color: #E8F0FE;\n",
              "      border: none;\n",
              "      border-radius: 50%;\n",
              "      cursor: pointer;\n",
              "      display: none;\n",
              "      fill: #1967D2;\n",
              "      height: 32px;\n",
              "      padding: 0 0 0 0;\n",
              "      width: 32px;\n",
              "    }\n",
              "\n",
              "    .colab-df-convert:hover {\n",
              "      background-color: #E2EBFA;\n",
              "      box-shadow: 0px 1px 2px rgba(60, 64, 67, 0.3), 0px 1px 3px 1px rgba(60, 64, 67, 0.15);\n",
              "      fill: #174EA6;\n",
              "    }\n",
              "\n",
              "    [theme=dark] .colab-df-convert {\n",
              "      background-color: #3B4455;\n",
              "      fill: #D2E3FC;\n",
              "    }\n",
              "\n",
              "    [theme=dark] .colab-df-convert:hover {\n",
              "      background-color: #434B5C;\n",
              "      box-shadow: 0px 1px 3px 1px rgba(0, 0, 0, 0.15);\n",
              "      filter: drop-shadow(0px 1px 2px rgba(0, 0, 0, 0.3));\n",
              "      fill: #FFFFFF;\n",
              "    }\n",
              "  </style>\n",
              "\n",
              "      <script>\n",
              "        const buttonEl =\n",
              "          document.querySelector('#df-284cf1b9-6518-4fb9-8a96-7b9e378721df button.colab-df-convert');\n",
              "        buttonEl.style.display =\n",
              "          google.colab.kernel.accessAllowed ? 'block' : 'none';\n",
              "\n",
              "        async function convertToInteractive(key) {\n",
              "          const element = document.querySelector('#df-284cf1b9-6518-4fb9-8a96-7b9e378721df');\n",
              "          const dataTable =\n",
              "            await google.colab.kernel.invokeFunction('convertToInteractive',\n",
              "                                                     [key], {});\n",
              "          if (!dataTable) return;\n",
              "\n",
              "          const docLinkHtml = 'Like what you see? Visit the ' +\n",
              "            '<a target=\"_blank\" href=https://colab.research.google.com/notebooks/data_table.ipynb>data table notebook</a>'\n",
              "            + ' to learn more about interactive tables.';\n",
              "          element.innerHTML = '';\n",
              "          dataTable['output_type'] = 'display_data';\n",
              "          await google.colab.output.renderOutput(dataTable, element);\n",
              "          const docLink = document.createElement('div');\n",
              "          docLink.innerHTML = docLinkHtml;\n",
              "          element.appendChild(docLink);\n",
              "        }\n",
              "      </script>\n",
              "    </div>\n",
              "  </div>\n",
              "  "
            ]
          },
          "metadata": {},
          "execution_count": 47
        }
      ]
    },
    {
      "cell_type": "code",
      "source": [
        "acc = hist['acc']\n",
        "val_acc = hist['val_acc']\n",
        "loss = hist['loss']\n",
        "val_loss = hist['val_loss']\n",
        "\n",
        "epochs = range(1, len(acc) + 1)\n",
        "\n",
        "plt.plot(epochs, acc, 'g', label='Training acc')\n",
        "plt.plot(epochs, val_acc, 'b', label='Validation acc')\n",
        "plt.title('Training and validation accuracy')\n",
        "plt.xlabel(\"Epochs\")\n",
        "plt.ylabel(\"Accuracy\")\n",
        "plt.legend()\n",
        "\n",
        "plt.figure()\n",
        "\n",
        "plt.plot(epochs, loss, 'g', label='Training loss')\n",
        "plt.plot(epochs, val_loss, 'b', label='Validation loss')\n",
        "plt.title('Training and validation loss')\n",
        "plt.xlabel(\"Epochs\")\n",
        "plt.ylabel(\"Loss\")\n",
        "plt.legend()\n",
        "\n",
        "plt.show()"
      ],
      "metadata": {
        "id": "L9rx8WZbQwng",
        "colab": {
          "base_uri": "https://localhost:8080/",
          "height": 927
        },
        "outputId": "032d3691-098a-4d52-f6c9-014a5b18ed1e"
      },
      "id": "L9rx8WZbQwng",
      "execution_count": 43,
      "outputs": [
        {
          "output_type": "display_data",
          "data": {
            "text/plain": [
              "<Figure size 640x480 with 1 Axes>"
            ],
            "image/png": "[encoded data removed]"
          },
          "metadata": {}
        },
        {
          "output_type": "display_data",
          "data": {
            "text/plain": [
              "<Figure size 640x480 with 1 Axes>"
            ],
            "image/png": "[encoded data removed]"
          },
          "metadata": {}
        }
      ]
    },
    {
      "cell_type": "code",
      "source": [
        "# Here we can see, train & validation data's acuuracy & loss aprroches to each other, and its having good accuracy (76 %)"
      ],
      "metadata": {
        "id": "v4KI1fu6HODX"
      },
      "id": "v4KI1fu6HODX",
      "execution_count": 66,
      "outputs": []
    },
    {
      "cell_type": "code",
      "source": [
        "plt.plot(hist['auc'], 'g', label='Training AUC')\n",
        "plt.plot(hist['val_auc'], 'b', label='Validation AUC')\n",
        "plt.legend()\n",
        "plt.xlabel(\"Epochs\")\n",
        "plt.ylabel(\"Area under ROC curve\")\n",
        "plt.title(\"AUC values\")\n",
        "plt.show()"
      ],
      "metadata": {
        "id": "BjrUKTT7hC8n",
        "colab": {
          "base_uri": "https://localhost:8080/",
          "height": 472
        },
        "outputId": "529d1c32-09eb-4149-b353-028b8cc66420"
      },
      "id": "BjrUKTT7hC8n",
      "execution_count": 69,
      "outputs": [
        {
          "output_type": "display_data",
          "data": {
            "text/plain": [
              "<Figure size 640x480 with 1 Axes>"
            ],
            "image/png": "[encoded data removed]"
          },
          "metadata": {}
        }
      ]
    },
    {
      "cell_type": "code",
      "source": [
        "# Here, AUC value is closer to 75%"
      ],
      "metadata": {
        "id": "dgPUe3XrHjIk"
      },
      "id": "dgPUe3XrHjIk",
      "execution_count": 65,
      "outputs": []
    },
    {
      "cell_type": "code",
      "source": [
        "plt.plot(hist['precision'], 'g', label='Precision')\n",
        "plt.plot(hist['recall'], 'b', label='Recall')\n",
        "plt.legend()\n",
        "plt.show()"
      ],
      "metadata": {
        "colab": {
          "base_uri": "https://localhost:8080/",
          "height": 430
        },
        "id": "shCqEoZlAffx",
        "outputId": "c810355e-b06f-4e87-ad0a-a38e10b822af"
      },
      "id": "shCqEoZlAffx",
      "execution_count": 48,
      "outputs": [
        {
          "output_type": "display_data",
          "data": {
            "text/plain": [
              "<Figure size 640x480 with 1 Axes>"
            ],
            "image/png": "[encoded data removed]"
          },
          "metadata": {}
        }
      ]
    },
    {
      "cell_type": "code",
      "source": [
        "# Here, precision is around 65% & recall is about 85%.\n",
        "# It means the models have some chance of giving False positive (sloghtly low precision), \n",
        "# but it is less likely to return false negative (high recall), and maximum positive cases will be caught."
      ],
      "metadata": {
        "id": "ex30EKIuH3OD"
      },
      "id": "ex30EKIuH3OD",
      "execution_count": 64,
      "outputs": []
    },
    {
      "cell_type": "code",
      "execution_count": 28,
      "id": "ad663290",
      "metadata": {
        "id": "ad663290"
      },
      "outputs": [],
      "source": [
        "#saving the model for future reference\n",
        "resnet_model.save(\"CovidPredict.h5\")"
      ]
    },
    {
      "cell_type": "code",
      "source": [
        "##       PREDICTION  ##\n",
        "\n",
        "# Loading the model\n",
        "my_model=load_model('CovidPredict.h5')"
      ],
      "metadata": {
        "id": "uxW9vvkGiv67"
      },
      "id": "uxW9vvkGiv67",
      "execution_count": 29,
      "outputs": []
    },
    {
      "cell_type": "code",
      "source": [
        "#Generating our test data set\n",
        "test_dir=curr+'/final/test'\n",
        "\n",
        "test_datagen = ImageDataGenerator(rescale=1./255)\n",
        "test_generator = test_datagen.flow_from_directory(test_dir,\n",
        "                                                    target_size=(224, 224),\n",
        "                                                    batch_size=32,\n",
        "                                                    class_mode='binary',\n",
        "                                                   color_mode='grayscale')"
      ],
      "metadata": {
        "id": "3e_gbcuaiwoU",
        "colab": {
          "base_uri": "https://localhost:8080/"
        },
        "outputId": "7fd8da62-5597-42e4-ca99-d12659819a31"
      },
      "id": "3e_gbcuaiwoU",
      "execution_count": 30,
      "outputs": [
        {
          "output_type": "stream",
          "name": "stdout",
          "text": [
            "Found 250 images belonging to 2 classes.\n"
          ]
        }
      ]
    },
    {
      "cell_type": "code",
      "source": [
        "#evaluating model for test dataset for the metrics\n",
        "loss,acc,pre,recall,auc=my_model.evaluate(test_generator, verbose=2)"
      ],
      "metadata": {
        "id": "8KVz_HhnkHP1",
        "colab": {
          "base_uri": "https://localhost:8080/"
        },
        "outputId": "83fef706-e300-4de4-b92f-670105d52f39"
      },
      "id": "8KVz_HhnkHP1",
      "execution_count": 31,
      "outputs": [
        {
          "output_type": "stream",
          "name": "stdout",
          "text": [
            "8/8 - 4s - loss: 0.5822 - acc: 0.6880 - precision: 0.6198 - recall: 0.9597 - auc: 0.7843 - 4s/epoch - 474ms/step\n"
          ]
        }
      ]
    },
    {
      "cell_type": "code",
      "source": [
        "# We can also use model.predict to get individual prediction\n",
        "# this will return array of value between 0 to 1, & after defining a thresold(generally 0.5), we classify it.\n",
        "predt=my_model.predict(test_generator)"
      ],
      "metadata": {
        "colab": {
          "base_uri": "https://localhost:8080/"
        },
        "id": "VJM5wA8zCJyg",
        "outputId": "949e0f79-4e6e-4c52-ffd9-bf901bc29819"
      },
      "id": "VJM5wA8zCJyg",
      "execution_count": 67,
      "outputs": [
        {
          "output_type": "stream",
          "name": "stdout",
          "text": [
            "8/8 [==============================] - 1s 101ms/step\n"
          ]
        }
      ]
    },
    {
      "cell_type": "code",
      "source": [],
      "metadata": {
        "id": "RleXcrBwJX7j"
      },
      "id": "RleXcrBwJX7j",
      "execution_count": null,
      "outputs": []
    }
  ],
  "metadata": {
    "kernelspec": {
      "display_name": "Python 3",
      "name": "python3"
    },
    "language_info": {
      "codemirror_mode": {
        "name": "ipython",
        "version": 3
      },
      "file_extension": ".py",
      "mimetype": "text/x-python",
      "name": "python",
      "nbconvert_exporter": "python",
      "pygments_lexer": "ipython3",
      "version": "3.9.13"
    },
    "colab": {
      "provenance": [],
      "gpuType": "T4"
    },
    "accelerator": "GPU"
  },
  "nbformat": 4,
  "nbformat_minor": 5
}